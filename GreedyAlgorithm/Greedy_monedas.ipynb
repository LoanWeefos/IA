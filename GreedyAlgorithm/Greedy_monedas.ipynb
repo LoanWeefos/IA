{
 "cells": [
  {
   "cell_type": "raw",
   "id": "1372d459-c182-4c40-97a7-97f6122816be",
   "metadata": {},
   "source": [
    "El siguiente código nos muestra un ejemplo sencillo del algoritmo voraz, en este se tiene un problema cotidiano, dar cambio en la menor cantidad de monedas.\n",
    "\n",
    "Siendo monedas = [1, 2, 5, 10] son las posibles monedas en las que se va dar el cambio.\n",
    "\n",
    "Y cantidad = 69 es el cambio a dar.\n",
    "\n",
    "El código lo primero que hace es obtener estos 2 valores, después ordena las monedas en orden descendente de manera que las monedas de mayor valor queden primero, después se crea un arreglo que sera donde se guarde el resultado de cuantas monedas de cada valor se van a usar.\n",
    "\n",
    "Aqui es donde empieza el algoritmo, en un contador se divide el cambio entre la primer moneda con más valor, ese contador se guarda y al cambio se le restan las monedas que se contaron, esto se repite con todas las monedas y asi termina de calcular."
   ]
  },
  {
   "cell_type": "code",
   "execution_count": 18,
   "id": "03858b1d-555c-4567-b6e9-ee4434be37e7",
   "metadata": {
    "tags": []
   },
   "outputs": [
    {
     "name": "stdout",
     "output_type": "stream",
     "text": [
      "Monedas utilizadas para dar el cambio:\n",
      "Moneda de 10: 6 monedas\n",
      "Moneda de 5: 1 monedas\n",
      "Moneda de 2: 2 monedas\n",
      "Moneda de 1: 0 monedas\n"
     ]
    }
   ],
   "source": [
    "def min_monedas(monedas, cantidad):\n",
    "    # Ordenamos las monedas en orden descendente\n",
    "    monedas.sort(reverse=True)\n",
    "    \n",
    "    # Lista para guardar cuántas monedas de cada denominación usaremos\n",
    "    mon_contador = []\n",
    "    \n",
    "    # Recorrer cada denominación\n",
    "    for moneda in monedas:\n",
    "        # Determinamos cuántas monedas de esta denominación se pueden usar\n",
    "        contador = cantidad // moneda\n",
    "        mon_contador.append((moneda, contador))\n",
    "        # Reducimos el monto del cambio restante\n",
    "        cantidad -= contador * moneda\n",
    "    \n",
    "    # Si aún queda cambio por dar que no puede ser cubierto por las denominaciones, no es posible\n",
    "    if cantidad != 0:\n",
    "        return \"No es posible dar el cambio exacto con estas monedas.\"\n",
    "    \n",
    "    return mon_contador\n",
    "\n",
    "# Ejemplo de uso:\n",
    "monedas = [1, 2, 5, 10]  # Denominaciones de las monedas\n",
    "cantidad = 69  # Cantidad de cambio a devolver\n",
    "\n",
    "resultado = min_monedas(monedas, cantidad)\n",
    "monedas.sort(reverse=True)\n",
    "print(\"Monedas utilizadas para dar el cambio:\")\n",
    "for moneda, contador in resultado:\n",
    "    print(f\"Moneda de {moneda}: {contador} monedas\")"
   ]
  },
  {
   "cell_type": "raw",
   "id": "a02d723c-c361-494f-9fc3-d3dfa7f6dae9",
   "metadata": {},
   "source": [
    "En este ejemplo se obtuvo como resultado:\n",
    "\n",
    "6 monedas de 10 = 60 +\n",
    "  1 moneda de 5 =  5\n",
    " 2 monedas de 2 =  2\n",
    "Resultando en los 69 de cambio que se tenian que dar."
   ]
  }
 ],
 "metadata": {
  "kernelspec": {
   "display_name": "Python 3 (ipykernel)",
   "language": "python",
   "name": "python3"
  },
  "language_info": {
   "codemirror_mode": {
    "name": "ipython",
    "version": 3
   },
   "file_extension": ".py",
   "mimetype": "text/x-python",
   "name": "python",
   "nbconvert_exporter": "python",
   "pygments_lexer": "ipython3",
   "version": "3.11.5"
  }
 },
 "nbformat": 4,
 "nbformat_minor": 5
}
